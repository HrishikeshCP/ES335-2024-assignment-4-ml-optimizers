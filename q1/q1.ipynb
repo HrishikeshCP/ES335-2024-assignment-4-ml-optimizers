{
 "cells": [
  {
   "cell_type": "code",
   "execution_count": 5,
   "metadata": {},
   "outputs": [],
   "source": [
    "from numpy import load\n",
    "import pandas\n",
    "import sys\n",
    "from matplotlib import pyplot\n",
    "from keras.utils import to_categorical\n",
    "from keras.applications.vgg16 import VGG16\n",
    "from keras.models import Model\n",
    "from keras.models import Sequential\n",
    "from keras.layers import Conv2D\n",
    "from keras.layers import MaxPooling2D\n",
    "from keras.layers import Dense\n",
    "from keras.layers import Flatten\n",
    "from keras.optimizers import SGD\n",
    "from keras.preprocessing.image import ImageDataGenerator\n"
   ]
  },
  {
   "cell_type": "code",
   "execution_count": 6,
   "metadata": {},
   "outputs": [],
   "source": [
    "def summarize_diagnostics(history, filename='diagnostics_plot.png'):\n",
    "    # Plot loss and accuracy curves\n",
    "    pyplot.figure(figsize=(10, 6))\n",
    "\n",
    "    # Plot loss\n",
    "    pyplot.subplot(211)\n",
    "    pyplot.title('Cross Entropy Loss')\n",
    "    pyplot.plot(history.history['loss'], color='blue', label='train')\n",
    "    pyplot.plot(history.history['val_loss'], color='orange', label='test')\n",
    "    pyplot.xlabel('Epoch')\n",
    "    pyplot.ylabel('Loss')\n",
    "    pyplot.legend()\n",
    "\n",
    "    # Plot accuracy\n",
    "    pyplot.subplot(212)\n",
    "    pyplot.title('Classification Accuracy')\n",
    "    pyplot.plot(history.history['accuracy'], color='blue', label='train')\n",
    "    pyplot.plot(history.history['val_accuracy'], color='orange', label='test')\n",
    "    pyplot.xlabel('Epoch')\n",
    "    pyplot.ylabel('Accuracy')\n",
    "    pyplot.legend()\n",
    "\n",
    "    # Save plot to file\n",
    "    pyplot.savefig(filename)\n",
    "    pyplot.close()"
   ]
  },
  {
   "cell_type": "markdown",
   "metadata": {},
   "source": [
    "### VGG (1 block)"
   ]
  },
  {
   "cell_type": "code",
   "execution_count": 7,
   "metadata": {},
   "outputs": [],
   "source": [
    "# define cnn model\n",
    "def define_vgg1_model():\n",
    "    model = Sequential()\n",
    "    model.add(Conv2D(32, (3, 3), activation='relu', kernel_initializer='he_uniform', padding='same', input_shape=(200, 200, 3)))\n",
    "    model.add(MaxPooling2D((2, 2)))\n",
    "    model.add(Flatten())\n",
    "    model.add(Dense(128, activation='relu', kernel_initializer='he_uniform'))\n",
    "    model.add(Dense(1, activation='sigmoid'))\n",
    "    # compile model\n",
    "    opt = SGD(lr=0.001, momentum=0.9)\n",
    "    model.compile(optimizer=opt, loss='binary_crossentropy', metrics=['accuracy'])\n",
    "    return model"
   ]
  },
  {
   "cell_type": "code",
   "execution_count": 8,
   "metadata": {},
   "outputs": [
    {
     "name": "stderr",
     "output_type": "stream",
     "text": [
      "WARNING:absl:`lr` is deprecated in Keras optimizer, please use `learning_rate` or use the legacy optimizer, e.g.,tf.keras.optimizers.legacy.SGD.\n"
     ]
    },
    {
     "name": "stdout",
     "output_type": "stream",
     "text": [
      "Found 160 images belonging to 2 classes.\n",
      "Found 40 images belonging to 2 classes.\n"
     ]
    },
    {
     "name": "stderr",
     "output_type": "stream",
     "text": [
      "C:\\Users\\rahul\\AppData\\Local\\Temp\\ipykernel_11768\\1272896663.py:13: UserWarning: `Model.fit_generator` is deprecated and will be removed in a future version. Please use `Model.fit`, which supports generators.\n",
      "  history = model.fit_generator(train_it, steps_per_epoch=len(train_it),\n"
     ]
    },
    {
     "name": "stdout",
     "output_type": "stream",
     "text": [
      "Epoch 1/20\n",
      "8/8 [==============================] - 7s 873ms/step - loss: 7.8732 - accuracy: 0.5500 - val_loss: 0.7052 - val_accuracy: 0.5250\n",
      "Epoch 2/20\n",
      "8/8 [==============================] - 6s 745ms/step - loss: 0.6614 - accuracy: 0.6000 - val_loss: 0.6822 - val_accuracy: 0.5500\n",
      "Epoch 3/20\n",
      "8/8 [==============================] - 6s 705ms/step - loss: 0.4959 - accuracy: 0.8313 - val_loss: 0.6472 - val_accuracy: 0.7000\n",
      "Epoch 4/20\n",
      "8/8 [==============================] - 5s 656ms/step - loss: 0.2852 - accuracy: 0.9125 - val_loss: 0.5278 - val_accuracy: 0.7250\n",
      "Epoch 5/20\n",
      "8/8 [==============================] - 6s 717ms/step - loss: 0.1436 - accuracy: 0.9812 - val_loss: 0.4846 - val_accuracy: 0.7750\n",
      "Epoch 6/20\n",
      "8/8 [==============================] - 6s 705ms/step - loss: 0.0622 - accuracy: 0.9812 - val_loss: 0.5658 - val_accuracy: 0.7750\n",
      "Epoch 7/20\n",
      "8/8 [==============================] - 6s 740ms/step - loss: 0.0279 - accuracy: 1.0000 - val_loss: 0.5935 - val_accuracy: 0.7500\n",
      "Epoch 8/20\n",
      "8/8 [==============================] - 6s 741ms/step - loss: 0.0131 - accuracy: 1.0000 - val_loss: 0.5883 - val_accuracy: 0.7500\n",
      "Epoch 9/20\n",
      "8/8 [==============================] - 6s 715ms/step - loss: 0.0061 - accuracy: 1.0000 - val_loss: 0.6066 - val_accuracy: 0.7500\n",
      "Epoch 10/20\n",
      "8/8 [==============================] - 6s 709ms/step - loss: 0.0041 - accuracy: 1.0000 - val_loss: 0.5859 - val_accuracy: 0.7500\n",
      "Epoch 11/20\n",
      "8/8 [==============================] - 6s 767ms/step - loss: 0.0027 - accuracy: 1.0000 - val_loss: 0.5785 - val_accuracy: 0.7500\n",
      "Epoch 12/20\n",
      "8/8 [==============================] - 5s 661ms/step - loss: 0.0020 - accuracy: 1.0000 - val_loss: 0.5900 - val_accuracy: 0.7500\n",
      "Epoch 13/20\n",
      "8/8 [==============================] - 6s 742ms/step - loss: 0.0017 - accuracy: 1.0000 - val_loss: 0.6083 - val_accuracy: 0.7750\n",
      "Epoch 14/20\n",
      "8/8 [==============================] - 6s 677ms/step - loss: 0.0016 - accuracy: 1.0000 - val_loss: 0.6187 - val_accuracy: 0.7500\n",
      "Epoch 15/20\n",
      "8/8 [==============================] - 6s 673ms/step - loss: 0.0014 - accuracy: 1.0000 - val_loss: 0.6278 - val_accuracy: 0.7500\n",
      "Epoch 16/20\n",
      "8/8 [==============================] - 6s 675ms/step - loss: 0.0013 - accuracy: 1.0000 - val_loss: 0.6321 - val_accuracy: 0.7500\n",
      "Epoch 17/20\n",
      "8/8 [==============================] - 6s 656ms/step - loss: 0.0011 - accuracy: 1.0000 - val_loss: 0.6329 - val_accuracy: 0.7500\n",
      "Epoch 18/20\n",
      "8/8 [==============================] - 6s 755ms/step - loss: 0.0010 - accuracy: 1.0000 - val_loss: 0.6347 - val_accuracy: 0.7500\n",
      "Epoch 19/20\n",
      "8/8 [==============================] - 6s 703ms/step - loss: 9.5746e-04 - accuracy: 1.0000 - val_loss: 0.6360 - val_accuracy: 0.7500\n",
      "Epoch 20/20\n",
      "8/8 [==============================] - 6s 736ms/step - loss: 9.1318e-04 - accuracy: 1.0000 - val_loss: 0.6366 - val_accuracy: 0.7500\n"
     ]
    },
    {
     "name": "stderr",
     "output_type": "stream",
     "text": [
      "C:\\Users\\rahul\\AppData\\Local\\Temp\\ipykernel_11768\\1272896663.py:16: UserWarning: `Model.evaluate_generator` is deprecated and will be removed in a future version. Please use `Model.evaluate`, which supports generators.\n",
      "  _, acc = model.evaluate_generator(test_it, steps=len(test_it), verbose=0)\n"
     ]
    },
    {
     "name": "stdout",
     "output_type": "stream",
     "text": [
      "> 75.000\n"
     ]
    }
   ],
   "source": [
    "# run the test harness for evaluating a model\n",
    "def run_test_harness():\n",
    "\t# define model\n",
    "\tmodel = define_vgg1_model()\n",
    "\t# create data generator\n",
    "\tdatagen = ImageDataGenerator(rescale=1.0/255.0)\n",
    "\t# prepare iterators\n",
    "\ttrain_it = datagen.flow_from_directory('monkey_vs_rabbit_dataset/train/',\n",
    "\t\tclass_mode='binary', batch_size=20, target_size=(200, 200))\n",
    "\ttest_it = datagen.flow_from_directory('monkey_vs_rabbit_dataset/test/',\n",
    "\t\tclass_mode='binary', batch_size=10, target_size=(200, 200))\n",
    "\t# fit model\n",
    "\thistory = model.fit_generator(train_it, steps_per_epoch=len(train_it),\n",
    "\t\tvalidation_data=test_it, validation_steps=len(test_it), epochs=20, verbose=1)\n",
    "\t# evaluate model\n",
    "\t_, acc = model.evaluate_generator(test_it, steps=len(test_it), verbose=0)\n",
    "\tprint('> %.3f' % (acc * 100.0))\n",
    "\t# learning curves\n",
    "\tsummarize_diagnostics(history, 'vgg1_plot.png')\n",
    "\n",
    "# entry point, run the test harness\n",
    "run_test_harness()"
   ]
  },
  {
   "cell_type": "markdown",
   "metadata": {},
   "source": [
    "### VGG (3 blocks)"
   ]
  },
  {
   "cell_type": "code",
   "execution_count": 9,
   "metadata": {},
   "outputs": [],
   "source": [
    "# define cnn model\n",
    "def define_vgg3_model():\n",
    "\tmodel = Sequential()\n",
    "\tmodel.add(Conv2D(32, (3, 3), activation='relu', kernel_initializer='he_uniform', padding='same', input_shape=(200, 200, 3)))\n",
    "\tmodel.add(MaxPooling2D((2, 2)))\n",
    "\tmodel.add(Conv2D(64, (3, 3), activation='relu', kernel_initializer='he_uniform', padding='same'))\n",
    "\tmodel.add(MaxPooling2D((2, 2)))\n",
    "\tmodel.add(Conv2D(128, (3, 3), activation='relu', kernel_initializer='he_uniform', padding='same'))\n",
    "\tmodel.add(MaxPooling2D((2, 2)))\n",
    "\tmodel.add(Flatten())\n",
    "\tmodel.add(Dense(128, activation='relu', kernel_initializer='he_uniform'))\n",
    "\tmodel.add(Dense(1, activation='sigmoid'))\n",
    "\t# compile model\n",
    "\topt = SGD(lr=0.001, momentum=0.9)\n",
    "\tmodel.compile(optimizer=opt, loss='binary_crossentropy', metrics=['accuracy'])\n",
    "\treturn model"
   ]
  },
  {
   "cell_type": "code",
   "execution_count": 10,
   "metadata": {},
   "outputs": [
    {
     "name": "stderr",
     "output_type": "stream",
     "text": [
      "WARNING:absl:`lr` is deprecated in Keras optimizer, please use `learning_rate` or use the legacy optimizer, e.g.,tf.keras.optimizers.legacy.SGD.\n"
     ]
    },
    {
     "name": "stdout",
     "output_type": "stream",
     "text": [
      "Found 160 images belonging to 2 classes.\n",
      "Found 40 images belonging to 2 classes.\n"
     ]
    },
    {
     "name": "stderr",
     "output_type": "stream",
     "text": [
      "C:\\Users\\rahul\\AppData\\Local\\Temp\\ipykernel_11768\\3825365145.py:13: UserWarning: `Model.fit_generator` is deprecated and will be removed in a future version. Please use `Model.fit`, which supports generators.\n",
      "  history = model.fit_generator(train_it, steps_per_epoch=len(train_it),\n"
     ]
    },
    {
     "name": "stdout",
     "output_type": "stream",
     "text": [
      "Epoch 1/20\n",
      "8/8 [==============================] - 8s 954ms/step - loss: 1.8761 - accuracy: 0.4750 - val_loss: 0.7025 - val_accuracy: 0.4750\n",
      "Epoch 2/20\n",
      "8/8 [==============================] - 7s 888ms/step - loss: 0.7537 - accuracy: 0.5188 - val_loss: 0.7085 - val_accuracy: 0.5000\n",
      "Epoch 3/20\n",
      "8/8 [==============================] - 7s 866ms/step - loss: 0.6793 - accuracy: 0.5000 - val_loss: 0.6889 - val_accuracy: 0.5000\n",
      "Epoch 4/20\n",
      "8/8 [==============================] - 7s 879ms/step - loss: 0.6613 - accuracy: 0.6562 - val_loss: 0.6760 - val_accuracy: 0.5750\n",
      "Epoch 5/20\n",
      "8/8 [==============================] - 7s 840ms/step - loss: 0.6331 - accuracy: 0.7250 - val_loss: 0.6681 - val_accuracy: 0.5750\n",
      "Epoch 6/20\n",
      "8/8 [==============================] - 7s 868ms/step - loss: 0.5798 - accuracy: 0.7688 - val_loss: 0.6559 - val_accuracy: 0.5250\n",
      "Epoch 7/20\n",
      "8/8 [==============================] - 7s 907ms/step - loss: 0.5125 - accuracy: 0.7750 - val_loss: 0.6292 - val_accuracy: 0.7000\n",
      "Epoch 8/20\n",
      "8/8 [==============================] - 7s 943ms/step - loss: 0.4186 - accuracy: 0.8062 - val_loss: 0.8863 - val_accuracy: 0.6000\n",
      "Epoch 9/20\n",
      "8/8 [==============================] - 7s 881ms/step - loss: 0.3801 - accuracy: 0.8125 - val_loss: 0.7487 - val_accuracy: 0.7000\n",
      "Epoch 10/20\n",
      "8/8 [==============================] - 7s 884ms/step - loss: 0.2893 - accuracy: 0.8813 - val_loss: 0.7347 - val_accuracy: 0.7000\n",
      "Epoch 11/20\n",
      "8/8 [==============================] - 7s 907ms/step - loss: 0.2053 - accuracy: 0.9438 - val_loss: 0.6746 - val_accuracy: 0.7750\n",
      "Epoch 12/20\n",
      "8/8 [==============================] - 7s 917ms/step - loss: 0.1133 - accuracy: 0.9812 - val_loss: 0.6967 - val_accuracy: 0.7500\n",
      "Epoch 13/20\n",
      "8/8 [==============================] - 7s 902ms/step - loss: 0.2339 - accuracy: 0.9125 - val_loss: 0.6952 - val_accuracy: 0.7000\n",
      "Epoch 14/20\n",
      "8/8 [==============================] - 7s 883ms/step - loss: 0.1523 - accuracy: 0.9625 - val_loss: 0.6748 - val_accuracy: 0.7000\n",
      "Epoch 15/20\n",
      "8/8 [==============================] - 7s 901ms/step - loss: 0.0704 - accuracy: 0.9750 - val_loss: 0.8214 - val_accuracy: 0.7750\n",
      "Epoch 16/20\n",
      "8/8 [==============================] - 7s 876ms/step - loss: 0.0213 - accuracy: 0.9937 - val_loss: 0.8850 - val_accuracy: 0.7000\n",
      "Epoch 17/20\n",
      "8/8 [==============================] - 7s 946ms/step - loss: 0.0122 - accuracy: 0.9937 - val_loss: 0.9539 - val_accuracy: 0.7500\n",
      "Epoch 18/20\n",
      "8/8 [==============================] - 8s 983ms/step - loss: 0.0049 - accuracy: 1.0000 - val_loss: 0.9672 - val_accuracy: 0.7250\n",
      "Epoch 19/20\n",
      "8/8 [==============================] - 7s 901ms/step - loss: 0.0019 - accuracy: 1.0000 - val_loss: 0.9162 - val_accuracy: 0.7250\n",
      "Epoch 20/20\n",
      "8/8 [==============================] - 7s 904ms/step - loss: 0.0014 - accuracy: 1.0000 - val_loss: 0.9442 - val_accuracy: 0.7500\n"
     ]
    },
    {
     "name": "stderr",
     "output_type": "stream",
     "text": [
      "C:\\Users\\rahul\\AppData\\Local\\Temp\\ipykernel_11768\\3825365145.py:16: UserWarning: `Model.evaluate_generator` is deprecated and will be removed in a future version. Please use `Model.evaluate`, which supports generators.\n",
      "  _, acc = model.evaluate_generator(test_it, steps=len(test_it), verbose=0)\n"
     ]
    },
    {
     "name": "stdout",
     "output_type": "stream",
     "text": [
      "> 75.000\n"
     ]
    }
   ],
   "source": [
    "# run the test harness for evaluating a model\n",
    "def run_test_harness():\n",
    "\t# define model\n",
    "\tmodel = define_vgg3_model()\n",
    "\t# create data generator\n",
    "\tdatagen = ImageDataGenerator(rescale=1.0/255.0)\n",
    "\t# prepare iterators\n",
    "\ttrain_it = datagen.flow_from_directory('monkey_vs_rabbit_dataset/train/',\n",
    "\t\tclass_mode='binary', batch_size=20, target_size=(200, 200))\n",
    "\ttest_it = datagen.flow_from_directory('monkey_vs_rabbit_dataset/test/',\n",
    "\t\tclass_mode='binary', batch_size=10, target_size=(200, 200))\n",
    "\t# fit model\n",
    "\thistory = model.fit_generator(train_it, steps_per_epoch=len(train_it),\n",
    "\t\tvalidation_data=test_it, validation_steps=len(test_it), epochs=20, verbose=1)\n",
    "\t# evaluate model\n",
    "\t_, acc = model.evaluate_generator(test_it, steps=len(test_it), verbose=0)\n",
    "\tprint('> %.3f' % (acc * 100.0))\n",
    "\t# learning curves\n",
    "\tsummarize_diagnostics(history, 'vgg3_plot.png')\n",
    "\n",
    "# entry point, run the test harness\n",
    "run_test_harness()"
   ]
  },
  {
   "cell_type": "markdown",
   "metadata": {},
   "source": [
    "### VGG (3 blocks) with data augmentation"
   ]
  },
  {
   "cell_type": "code",
   "execution_count": 11,
   "metadata": {},
   "outputs": [],
   "source": [
    "# define cnn model\n",
    "def define_vgg3_model():\n",
    "\tmodel = Sequential()\n",
    "\tmodel.add(Conv2D(32, (3, 3), activation='relu', kernel_initializer='he_uniform', padding='same', input_shape=(200, 200, 3)))\n",
    "\tmodel.add(MaxPooling2D((2, 2)))\n",
    "\tmodel.add(Conv2D(64, (3, 3), activation='relu', kernel_initializer='he_uniform', padding='same'))\n",
    "\tmodel.add(MaxPooling2D((2, 2)))\n",
    "\tmodel.add(Conv2D(128, (3, 3), activation='relu', kernel_initializer='he_uniform', padding='same'))\n",
    "\tmodel.add(MaxPooling2D((2, 2)))\n",
    "\tmodel.add(Flatten())\n",
    "\tmodel.add(Dense(128, activation='relu', kernel_initializer='he_uniform'))\n",
    "\tmodel.add(Dense(1, activation='sigmoid'))\n",
    "\t# compile model\n",
    "\topt = SGD(lr=0.001, momentum=0.9)\n",
    "\tmodel.compile(optimizer=opt, loss='binary_crossentropy', metrics=['accuracy'])\n",
    "\treturn model"
   ]
  },
  {
   "cell_type": "code",
   "execution_count": 12,
   "metadata": {},
   "outputs": [
    {
     "name": "stderr",
     "output_type": "stream",
     "text": [
      "WARNING:absl:`lr` is deprecated in Keras optimizer, please use `learning_rate` or use the legacy optimizer, e.g.,tf.keras.optimizers.legacy.SGD.\n"
     ]
    },
    {
     "name": "stdout",
     "output_type": "stream",
     "text": [
      "Found 160 images belonging to 2 classes.\n",
      "Found 40 images belonging to 2 classes.\n"
     ]
    },
    {
     "name": "stderr",
     "output_type": "stream",
     "text": [
      "C:\\Users\\rahul\\AppData\\Local\\Temp\\ipykernel_11768\\3641394993.py:15: UserWarning: `Model.fit_generator` is deprecated and will be removed in a future version. Please use `Model.fit`, which supports generators.\n",
      "  history = model.fit_generator(train_it, steps_per_epoch=len(train_it),\n"
     ]
    },
    {
     "name": "stdout",
     "output_type": "stream",
     "text": [
      "Epoch 1/20\n",
      "8/8 [==============================] - 8s 997ms/step - loss: 5.6062 - accuracy: 0.5000 - val_loss: 0.6780 - val_accuracy: 0.5000\n",
      "Epoch 2/20\n",
      "8/8 [==============================] - 7s 911ms/step - loss: 0.6876 - accuracy: 0.6062 - val_loss: 0.6884 - val_accuracy: 0.5750\n",
      "Epoch 3/20\n",
      "8/8 [==============================] - 7s 899ms/step - loss: 0.6271 - accuracy: 0.6125 - val_loss: 0.7420 - val_accuracy: 0.5500\n",
      "Epoch 4/20\n",
      "8/8 [==============================] - 7s 904ms/step - loss: 0.6869 - accuracy: 0.5813 - val_loss: 0.6617 - val_accuracy: 0.6750\n",
      "Epoch 5/20\n",
      "8/8 [==============================] - 7s 840ms/step - loss: 0.6362 - accuracy: 0.6500 - val_loss: 0.6536 - val_accuracy: 0.6250\n",
      "Epoch 6/20\n",
      "8/8 [==============================] - 7s 829ms/step - loss: 0.6297 - accuracy: 0.6313 - val_loss: 0.6420 - val_accuracy: 0.6250\n",
      "Epoch 7/20\n",
      "8/8 [==============================] - 7s 813ms/step - loss: 0.6051 - accuracy: 0.7437 - val_loss: 0.6528 - val_accuracy: 0.7250\n",
      "Epoch 8/20\n",
      "8/8 [==============================] - 7s 838ms/step - loss: 0.5771 - accuracy: 0.6750 - val_loss: 0.6322 - val_accuracy: 0.7000\n",
      "Epoch 9/20\n",
      "8/8 [==============================] - 6s 811ms/step - loss: 0.5341 - accuracy: 0.7437 - val_loss: 0.6316 - val_accuracy: 0.6750\n",
      "Epoch 10/20\n",
      "8/8 [==============================] - 7s 846ms/step - loss: 0.5281 - accuracy: 0.7437 - val_loss: 0.6582 - val_accuracy: 0.7000\n",
      "Epoch 11/20\n",
      "8/8 [==============================] - 7s 815ms/step - loss: 0.4697 - accuracy: 0.7688 - val_loss: 0.5979 - val_accuracy: 0.7750\n",
      "Epoch 12/20\n",
      "8/8 [==============================] - 7s 812ms/step - loss: 0.4304 - accuracy: 0.8062 - val_loss: 0.7934 - val_accuracy: 0.7000\n",
      "Epoch 13/20\n",
      "8/8 [==============================] - 7s 849ms/step - loss: 0.4179 - accuracy: 0.8125 - val_loss: 0.6736 - val_accuracy: 0.6500\n",
      "Epoch 14/20\n",
      "8/8 [==============================] - 7s 829ms/step - loss: 0.3809 - accuracy: 0.8500 - val_loss: 0.6260 - val_accuracy: 0.7000\n",
      "Epoch 15/20\n",
      "8/8 [==============================] - 7s 851ms/step - loss: 0.3662 - accuracy: 0.8313 - val_loss: 0.5939 - val_accuracy: 0.6750\n",
      "Epoch 16/20\n",
      "8/8 [==============================] - 7s 835ms/step - loss: 0.4517 - accuracy: 0.7937 - val_loss: 0.7188 - val_accuracy: 0.7250\n",
      "Epoch 17/20\n",
      "8/8 [==============================] - 7s 850ms/step - loss: 0.4547 - accuracy: 0.8125 - val_loss: 0.7768 - val_accuracy: 0.6250\n",
      "Epoch 18/20\n",
      "8/8 [==============================] - 7s 805ms/step - loss: 0.3284 - accuracy: 0.8500 - val_loss: 1.0684 - val_accuracy: 0.6000\n",
      "Epoch 19/20\n",
      "8/8 [==============================] - 7s 825ms/step - loss: 0.3657 - accuracy: 0.8313 - val_loss: 0.6115 - val_accuracy: 0.6750\n",
      "Epoch 20/20\n",
      "8/8 [==============================] - 7s 816ms/step - loss: 0.3676 - accuracy: 0.8375 - val_loss: 0.8580 - val_accuracy: 0.6750\n"
     ]
    },
    {
     "name": "stderr",
     "output_type": "stream",
     "text": [
      "C:\\Users\\rahul\\AppData\\Local\\Temp\\ipykernel_11768\\3641394993.py:18: UserWarning: `Model.evaluate_generator` is deprecated and will be removed in a future version. Please use `Model.evaluate`, which supports generators.\n",
      "  _, acc = model.evaluate_generator(test_it, steps=len(test_it), verbose=0)\n"
     ]
    },
    {
     "name": "stdout",
     "output_type": "stream",
     "text": [
      "> 67.500\n"
     ]
    }
   ],
   "source": [
    "# run the test harness for evaluating a model\n",
    "def run_test_harness():\n",
    "\t# define model\n",
    "\tmodel = define_vgg1_model()\n",
    "\t# create data generators\n",
    "\ttrain_datagen = ImageDataGenerator(rescale=1.0/255.0,\n",
    "\t\twidth_shift_range=0.1, height_shift_range=0.1, horizontal_flip=True)\n",
    "\ttest_datagen = ImageDataGenerator(rescale=1.0/255.0)\n",
    "\t# prepare iterators\n",
    "\ttrain_it = train_datagen.flow_from_directory('monkey_vs_rabbit_dataset/train/',\n",
    "\t\tclass_mode='binary', batch_size=20, target_size=(200, 200))\n",
    "\ttest_it = test_datagen.flow_from_directory('monkey_vs_rabbit_dataset/test/',\n",
    "\t\tclass_mode='binary', batch_size=10, target_size=(200, 200))\n",
    "\t# fit model\n",
    "\thistory = model.fit_generator(train_it, steps_per_epoch=len(train_it),\n",
    "\t\tvalidation_data=test_it, validation_steps=len(test_it), epochs=20, verbose=1)\n",
    "\t# evaluate model\n",
    "\t_, acc = model.evaluate_generator(test_it, steps=len(test_it), verbose=0)\n",
    "\tprint('> %.3f' % (acc * 100.0))\n",
    "\t# learning curves\n",
    "\tsummarize_diagnostics(history, 'vgg3_da_plot.png')\n",
    "\n",
    "# entry point, run the test harness\n",
    "run_test_harness()"
   ]
  },
  {
   "cell_type": "markdown",
   "metadata": {},
   "source": [
    "### Transfer learning using VGG16 or VGG19 with tuning all layers (including tuning convolution layers)"
   ]
  },
  {
   "cell_type": "code",
   "execution_count": 14,
   "metadata": {},
   "outputs": [
    {
     "name": "stderr",
     "output_type": "stream",
     "text": [
      "WARNING:absl:`lr` is deprecated in Keras optimizer, please use `learning_rate` or use the legacy optimizer, e.g.,tf.keras.optimizers.legacy.SGD.\n"
     ]
    },
    {
     "name": "stdout",
     "output_type": "stream",
     "text": [
      "Found 160 images belonging to 2 classes.\n",
      "Found 40 images belonging to 2 classes.\n"
     ]
    },
    {
     "name": "stderr",
     "output_type": "stream",
     "text": [
      "C:\\Users\\rahul\\AppData\\Local\\Temp\\ipykernel_11768\\364334027.py:33: UserWarning: `Model.fit_generator` is deprecated and will be removed in a future version. Please use `Model.fit`, which supports generators.\n",
      "  history = model.fit_generator(train_it, steps_per_epoch=len(train_it),\n"
     ]
    },
    {
     "name": "stdout",
     "output_type": "stream",
     "text": [
      "Epoch 1/10\n",
      "8/8 [==============================] - 103s 13s/step - loss: nan - accuracy: 0.4750 - val_loss: nan - val_accuracy: 0.5000\n",
      "Epoch 2/10\n",
      "8/8 [==============================] - 101s 13s/step - loss: nan - accuracy: 0.5000 - val_loss: nan - val_accuracy: 0.5000\n",
      "Epoch 3/10\n",
      "8/8 [==============================] - 100s 12s/step - loss: nan - accuracy: 0.5000 - val_loss: nan - val_accuracy: 0.5000\n",
      "Epoch 4/10\n",
      "5/8 [=================>............] - ETA: 44s - loss: nan - accuracy: 0.5000 "
     ]
    }
   ],
   "source": [
    "# define cnn model\n",
    "def define_model():\n",
    "    # load model\n",
    "    model = VGG16(include_top=False, input_shape=(224, 224, 3))\n",
    "    # Unfreeze all layers for fine-tuning\n",
    "    for layer in model.layers:\n",
    "        layer.trainable = True\n",
    "    # add new classifier layers\n",
    "    flat1 = Flatten()(model.layers[-1].output)\n",
    "    class1 = Dense(128, activation='relu', kernel_initializer='he_uniform')(flat1)\n",
    "    output = Dense(1, activation='sigmoid')(class1)\n",
    "    # define new model\n",
    "    model = Model(inputs=model.inputs, outputs=output)\n",
    "    # compile model\n",
    "    opt = SGD(lr=0.001, momentum=0.9)\n",
    "    model.compile(optimizer=opt, loss='binary_crossentropy', metrics=['accuracy'])\n",
    "    return model\n",
    "\n",
    "# run the test harness for evaluating a model\n",
    "def run_test_harness():\n",
    "    # define model\n",
    "    model = define_model()\n",
    "    # create data generator\n",
    "    datagen = ImageDataGenerator(featurewise_center=True)\n",
    "    # specify imagenet mean values for centering\n",
    "    datagen.mean = [123.68, 116.779, 103.939]\n",
    "    # prepare iterator\n",
    "    train_it = datagen.flow_from_directory('monkey_vs_rabbit_dataset/train/',\n",
    "        class_mode='binary', batch_size=20, target_size=(224, 224))\n",
    "    test_it = datagen.flow_from_directory('monkey_vs_rabbit_dataset/test/',\n",
    "        class_mode='binary', batch_size=10, target_size=(224, 224))\n",
    "    # fit model\n",
    "    history = model.fit_generator(train_it, steps_per_epoch=len(train_it),\n",
    "        validation_data=test_it, validation_steps=len(test_it), epochs=10, verbose=1)\n",
    "    # evaluate model\n",
    "    _, acc = model.evaluate_generator(test_it, steps=len(test_it), verbose=0)\n",
    "    print('> %.3f' % (acc * 100.0))\n",
    "    # learning curves\n",
    "    summarize_diagnostics(history, 'tf_vgg16_plot.png')\n",
    "\n",
    "# entry point, run the test harness\n",
    "run_test_harness()"
   ]
  }
 ],
 "metadata": {
  "kernelspec": {
   "display_name": "Python 3",
   "language": "python",
   "name": "python3"
  },
  "language_info": {
   "codemirror_mode": {
    "name": "ipython",
    "version": 3
   },
   "file_extension": ".py",
   "mimetype": "text/x-python",
   "name": "python",
   "nbconvert_exporter": "python",
   "pygments_lexer": "ipython3",
   "version": "3.9.13"
  }
 },
 "nbformat": 4,
 "nbformat_minor": 2
}
