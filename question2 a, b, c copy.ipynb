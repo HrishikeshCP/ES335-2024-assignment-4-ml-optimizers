{
 "cells": [
  {
   "cell_type": "markdown",
   "metadata": {},
   "source": [
    "LSH Method"
   ]
  },
  {
   "cell_type": "code",
   "execution_count": 2,
   "metadata": {},
   "outputs": [
    {
     "name": "stdout",
     "output_type": "stream",
     "text": [
      "\n",
      "Dimension: 1\n",
      "Query Point\tNearest Neighbor\tDistance\n",
      "[0]\t[1]\t2.080615\n",
      "[7]\t[5]\t4.161230\n",
      "\n",
      "Dimension: 2\n",
      "Query Point\tNearest Neighbor\tDistance\n",
      "[7 4]\t[5 4]\t4.161230\n",
      "[1 7]\t[1 9]\t3.754138\n",
      "\n",
      "Dimension: 3\n",
      "Query Point\tNearest Neighbor\tDistance\n",
      "[2 9 1]\t[3 7 2]\t4.927726\n",
      "[4 3 7]\t[4 1 5]\t0.675591\n"
     ]
    }
   ],
   "source": [
    "import numpy as np\n",
    "\n",
    "# Example datasets for 1D, 2D, and 3D\n",
    "X_1D = np.array([[1], [2], [3], [4], [5]])\n",
    "X_2D = np.array([[1, 9], [2, 3], [4, 1], [3, 7], [5, 4]])\n",
    "X_3D = np.array([[1, 9, 3], [2, 3, 7], [4, 1, 5], [3, 7, 2], [5, 4, 8]])\n",
    "\n",
    "query_pts_1D = np.array([[0], [7]])\n",
    "query_pts_2D = np.array([[7, 4], [1, 7]])\n",
    "query_pts_3D = np.array([[2, 9, 1], [4, 3, 7]])\n",
    "\n",
    "def random_projections(X, query_pts, P):\n",
    "    np.random.seed(35)\n",
    "    R = np.random.randn(X.shape[1] + 1, P)  # +1 for the bias term\n",
    "    X_proj = np.dot(np.hstack([X, np.ones((X.shape[0], 1))]), R)\n",
    "    query_pts_proj = np.dot(np.hstack([query_pts, np.ones((query_pts.shape[0], 1))]), R)\n",
    "    return X_proj, query_pts_proj, R\n",
    "\n",
    "def pairwise_dist_naive(x: np.ndarray, y: np.ndarray) -> float:\n",
    "    return np.sqrt(np.sum((x - y) ** 2))\n",
    "\n",
    "def nearest_neighbors(X, query_pts, P):\n",
    "    X_proj, query_pts_proj, R = random_projections(X, query_pts, P)\n",
    "    \n",
    "    neighbors = []\n",
    "    for query_pt_proj in query_pts_proj:\n",
    "        query_region = np.sign(query_pt_proj)\n",
    "        n = X_proj.shape[0]\n",
    "        distances = np.full(n, np.inf)  # Initialize distances with infinities\n",
    "        for i in range(n):\n",
    "            if np.array_equal(np.sign(X_proj[i]), query_region):\n",
    "                distances[i] = pairwise_dist_naive(X_proj[i], query_pt_proj)\n",
    "        \n",
    "        nearest_neighbor_index = np.argmin(distances)\n",
    "        neighbors.append((X[nearest_neighbor_index], distances[nearest_neighbor_index]))\n",
    "    \n",
    "    return neighbors\n",
    "\n",
    "# Test the function for 1D, 2D, and 3D\n",
    "P = 3  # Number of projections\n",
    "\n",
    "for X, query_pts in [(X_1D, query_pts_1D), (X_2D, query_pts_2D), (X_3D, query_pts_3D)]:\n",
    "    neighbors = nearest_neighbors(X, query_pts, P)\n",
    "    print(\"\\nDimension:\", X.shape[1])\n",
    "    print(\"Query Point\\tNearest Neighbor\\tDistance\")\n",
    "    for query_pt, (neighbor, dist) in zip(query_pts, neighbors):\n",
    "        print(f\"{query_pt}\\t{neighbor}\\t{dist:.6f}\")\n"
   ]
  },
  {
   "cell_type": "markdown",
   "metadata": {},
   "source": [
    "KD Tree"
   ]
  },
  {
   "cell_type": "code",
   "execution_count": 9,
   "metadata": {},
   "outputs": [
    {
     "name": "stdout",
     "output_type": "stream",
     "text": [
      "Query Point: [7 4 1], Nearest Point: [4 1 2], Distance: 4.36\n",
      "Query Point: [1 8 3], Nearest Point: [1 9 1], Distance: 2.24\n"
     ]
    }
   ],
   "source": [
    "from sklearn.neighbors import KDTree\n",
    "import numpy as np\n",
    "\n",
    "def nearest_neighbors_within_leaf_multi(X, query_pts, n_neighbors):\n",
    "    \"\"\"\n",
    "    X: numpy array of shape (n, d)\n",
    "    query_pts: numpy array of shape (m, d), where m is the number of query points\n",
    "    n_neighbors: int, number of neighbors to consider for each query point\n",
    "    \n",
    "    Returns the formatted output of the query point, nearest point(s), and distance(s)\n",
    "    \"\"\"\n",
    "    kdtree = KDTree(X, leaf_size=30)  # Adjust the leaf_size based on your dataset\n",
    "    distances, indices = kdtree.query(query_pts, k=n_neighbors)\n",
    "    \n",
    "    results = []\n",
    "    for i, (dist, idx) in enumerate(zip(distances, indices)):\n",
    "        for j in range(n_neighbors):\n",
    "            results.append({\n",
    "                'Query Point': query_pts[i],\n",
    "                'Nearest Point': X[idx[j]],\n",
    "                'Distance': dist[j]\n",
    "            })\n",
    "    return results\n",
    "\n",
    "# Example usage\n",
    "X = np.array([[1, 9,1], [2, 3,4], [4, 1,2]])\n",
    "query_pts = np.array([[7, 4,1], [1, 8,3]])  # Multiple query points\n",
    "n_neighbors = 1  # Number of neighbors to find\n",
    "\n",
    "results = nearest_neighbors_within_leaf_multi(X, query_pts, n_neighbors)\n",
    "for result in results:\n",
    "    print(\"Query Point: {}, Nearest Point: {}, Distance: {:.2f}\".format(\n",
    "        result['Query Point'], result['Nearest Point'], result['Distance']\n",
    "    ))\n"
   ]
  },
  {
   "cell_type": "code",
   "execution_count": 4,
   "metadata": {},
   "outputs": [
    {
     "data": {
      "image/png": "[encoded data removed]",
      "text/plain": [
       "<Figure size 1000x1000 with 1 Axes>"
      ]
     },
     "metadata": {},
     "output_type": "display_data"
    }
   ],
   "source": [
    "import numpy as np\n",
    "\n",
    "X = np.array([[1, 9], [2, 3], [4, 1], [3, 7], [5, 4], [6, 8], [7, 2], [8, 8], [7, 9], [9, 6]])\n",
    "query_pt = np.array([7, 4])\n",
    "\n",
    "class KDNode:\n",
    "    def __init__(self, point, left=None, right=None):\n",
    "        self.point = point\n",
    "        self.left = left\n",
    "        self.right = right\n",
    "\n",
    "def build_kdtree(points, depth=0):\n",
    "    n = len(points)\n",
    "    if n == 0:\n",
    "        return None\n",
    "\n",
    "    k = len(points[0])  # assumes all points have the same dimension\n",
    "    axis = depth % k\n",
    "\n",
    "    # Sort point array and choose median as pivot element\n",
    "    sorted_points = sorted(points, key=lambda point: point[axis])\n",
    "    median_index = n // 2\n",
    "\n",
    "    # Create node and recursively construct subtrees\n",
    "    return KDNode(\n",
    "        point=sorted_points[median_index],\n",
    "        left=build_kdtree(sorted_points[:median_index], depth + 1),\n",
    "        right=build_kdtree(sorted_points[median_index + 1:], depth + 1)\n",
    "    )\n",
    "\n",
    "# Build KD-Tree\n",
    "kd_tree = build_kdtree(X)\n",
    "\n",
    "import matplotlib.pyplot as plt\n",
    "\n",
    "def plot_kdtree(node, min_x, max_x, min_y, max_y, depth=0):\n",
    "    if node is not None:\n",
    "        # Determine axis and draw the line\n",
    "        k = len(node.point)\n",
    "        axis = depth % k\n",
    "\n",
    "        if axis == 0:\n",
    "            plt.plot([node.point[0], node.point[0]], [min_y, max_y], 'r-')\n",
    "            plot_kdtree(node.left, min_x, node.point[0], min_y, max_y, depth + 1)\n",
    "            plot_kdtree(node.right, node.point[0], max_x, min_y, max_y, depth + 1)\n",
    "        else:\n",
    "            plt.plot([min_x, max_x], [node.point[1], node.point[1]], 'b-')\n",
    "            plot_kdtree(node.left, min_x, max_x, min_y, node.point[1], depth + 1)\n",
    "            plot_kdtree(node.right, min_x, max_x, node.point[1], max_y, depth + 1)\n",
    "\n",
    "# Plot points and query point\n",
    "plt.figure(figsize=(10, 10))\n",
    "plt.scatter(X[:, 0], X[:, 1], c='k')\n",
    "plt.scatter(query_pt[0], query_pt[1], c='g', marker='x')  # query point in green\n",
    "\n",
    "# Call the function with initial bounds\n",
    "plot_kdtree(kd_tree, min(X[:, 0])-1, max(X[:, 0])+1, min(X[:, 1])-1, max(X[:, 1])+1)\n",
    "\n",
    "plt.grid(True)\n",
    "plt.title('KD-Tree Splitting Partitions')\n",
    "plt.show()\n"
   ]
  },
  {
   "cell_type": "markdown",
   "metadata": {},
   "source": [
    "Naive Method"
   ]
  },
  {
   "cell_type": "code",
   "execution_count": 6,
   "metadata": {},
   "outputs": [
    {
     "name": "stdout",
     "output_type": "stream",
     "text": [
      "Nearest Neighbors:\n",
      "[[5 4]]\n"
     ]
    }
   ],
   "source": [
    "import numpy as np\n",
    "\n",
    "X = np.array([[1, 9], [2, 3], [4, 1], [3, 7], [5, 4], [6, 8], [7, 2], [8, 8], [7, 9], [9, 6]])\n",
    "query_pt = np.array([7, 4])\n",
    "\n",
    "def pairwise_dist_naive(x: np.ndarray, y: np.ndarray) -> float:\n",
    "    \"\"\"\n",
    "    x: numpy array of shape (d,)\n",
    "    y: numpy array of shape (d,)\n",
    "    \n",
    "    Returns the Euclidean distance between x and y\n",
    "    \"\"\"\n",
    "    d = len(x)\n",
    "    assert d == len(y), \"Vectors must be of the same dimension\"\n",
    "    sqrd_distance = 0.0\n",
    "    for i in range(d):\n",
    "        sqrd_distance += (x[i] - y[i])**2\n",
    "    return np.sqrt(sqrd_distance)\n",
    "\n",
    "def naive_knn(data, query, k):\n",
    "    n = len(data)\n",
    "    distances = np.zeros(n)\n",
    "    \n",
    "    # Calculate the Euclidean distance from the query point to all other points in the dataset using a for-loop\n",
    "    for i in range(n):\n",
    "        distances[i] = pairwise_dist_naive(data[i], query)\n",
    "    \n",
    "    # Get the indices of the sorted distances\n",
    "    sorted_indices = np.argsort(distances)\n",
    "    \n",
    "    # Select the top k nearest neighbors\n",
    "    nearest_neighbors = data[sorted_indices][:k]\n",
    "    \n",
    "    return nearest_neighbors\n",
    "\n",
    "# Example usage\n",
    "k = 1\n",
    "nearest_neighbors = naive_knn(X, query_pt, k)\n",
    "print(\"Nearest Neighbors:\")\n",
    "print(nearest_neighbors)\n"
   ]
  },
  {
   "cell_type": "code",
   "execution_count": null,
   "metadata": {},
   "outputs": [],
   "source": []
  }
 ],
 "metadata": {
  "kernelspec": {
   "display_name": "Python 3",
   "language": "python",
   "name": "python3"
  },
  "language_info": {
   "codemirror_mode": {
    "name": "ipython",
    "version": 3
   },
   "file_extension": ".py",
   "mimetype": "text/x-python",
   "name": "python",
   "nbconvert_exporter": "python",
   "pygments_lexer": "ipython3",
   "version": "3.11.0"
  }
 },
 "nbformat": 4,
 "nbformat_minor": 2
}
